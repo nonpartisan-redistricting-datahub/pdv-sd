{
 "cells": [
  {
   "cell_type": "code",
   "execution_count": 4,
   "id": "2c54ad58",
   "metadata": {},
   "outputs": [],
   "source": [
    "import pandas as pd\n",
    "import geopandas as gp\n",
    "import numpy as np \n",
    "import os\n",
    "import fiona\n",
    "from statistics import mean, median\n",
    "import string\n",
    "import sys"
   ]
  },
  {
   "cell_type": "markdown",
   "id": "267d00f2",
   "metadata": {},
   "source": [
    "# Precinct Shapefile\n",
    "---\n",
    "## VEST's Documentation File\n",
    "\n",
    "\n",
    "Election Results from South Dakota Secretary of State (https://sdsos.gov/elections-voting/election-resources/election-history/2016_Election_History.aspx)\n",
    "Precinct shapefiles primarily from the U.S. Census Bureau's 2020 Redistricting Data Program Phase 2 release, with the exceptions of Potter County and Yankton County from the 2010 Census VTD release.\n",
    "\n",
    "Brookings, Brown, Hughes, Hyde, Potter, Sully, and Yankton use countywide vote centers rather than polling locations by precinct. South Dakota counties with vote centers do not record votes by precinct. For these counties, votes were apportioned to precincts based on their share of the countywide number of ballots cast by voters registered with the party of the respective candidates. When this method was tested with counties that report votes by precinct the great majority of precincts were within 4% of the actual candidate vote shares. However, a scattering of precincts deviated by as much as 12% from the actual vote shares. These precincts tend to be in either city centers or outlying areas, which reflects the fact that registered Democrats in rural precincts are more likely to vote for Republican candidates than registered Democrats in urban precincts.\n",
    "\n",
    "Lawrence County reported absentee votes countywide. These were distributed by candidate to precincts based on their share of the precinct-level reported vote.\n",
    "\n",
    "The certified precinct report from Minnehaha County adds up to about 18 more votes per office than the countywide totals recorded in the official state canvass. This was evidently an oversight in which the preliminary vote count from Minnehaha County was not updated before the final state canvass.\n",
    "\n",
    "The following modifications were made in the shapefiles to recreate the 2016 precinct boundaries.\n",
    "\n",
    "Beadle: Replace 5 commissioner districts with 10 precincts\n",
    "Bennett: Merge Martin City wards\n",
    "Brown: Adjust 12/16, 21/22; revise Aberdeen city limits to 2016 boundary\n",
    "Brule: Merge divisions of 3\n",
    "Butte: Merge 8/13/14\n",
    "Charles Mix: Merge divisions of 3, 6, 11, 12\n",
    "Clark: Replace 5 commissioner districts with 13 precincts\n",
    "Codington: 3 county VTDs reorganized into 13 precincts by township list; merge Watertown wards A3/A4, B1/B4/E5, B3/C1, C2/D4, E2/E4; reverse B3 annexation\n",
    "Corson: Merge McIntosh/South McIntosh, Lincoln/Oak Creek\n",
    "Davison: Merge 4/5, 6/7, 12/13, 17/18\n",
    "Day: Merge divisions of 2, 5, 6; Revise Webster city boundaries\n",
    "Dewey: Merge 3/4, 10/11, 12/13\n",
    "Fall River: Merge Edgemont, Oelrichs\n",
    "Faulk: Split 6/7\n",
    "Grant: Split 41/45/53, 43/47, 44/49/52/54; Add Milbank wards\n",
    "Hand: Merge 1/3, 5/8, 9/10, divisions of 11, 12\n",
    "Hyde: Replace 5 commissioner districts with 3 precincts\n",
    "Jackson: Merge divisions of 3, 4\n",
    "Jones: Merge divisions of 1, 3\n",
    "Kingsbury: Replace 5 commissioner districts with 6 precincts\n",
    "Lawrence: Merge Whitewood, Rural #1\n",
    "Lincoln: Merge Beresford, Canton 1-3, Canton 4-5, Lennox, Tea\n",
    "Mellette: Revise Central/East/West boundaries, White River city limits\n",
    "McPherson: Merge Eureka wards with 4/5/6, Leola ward with 1/2\n",
    "Minnehaha: Merge 1-4/1-5, 4-1/5-15, 4-7/4-8, 5-1/5-2; reverse renumbering and changes to corporate boundary since 2016\n",
    "Pennington: Merge CA/SC, HR/LS/RK; Split RH/HC\n",
    "Perkins: Merge divisions of 3\n",
    "Potter: Adjust Gettysburg ward boundaries; Merge divisions of 26, 27\n",
    "Roberts: Merge 6/7, 12/14\n",
    "Sully: Revise all precinct boundaries to align with county PDF\n",
    "Union: Merge divisions of 2, 6\n",
    "Yankton: Revise Yankton city precincts to align with city limits\n",
    "Ziebach: Merge Redelm/N&S Dupree\n",
    "\n",
    "* G16PRERTRU - Donald Trump (Republican Party)\n",
    "* G16PREDCLI - Hillary Clinton (Democratic Party)\n",
    "* G16PRELJOH - Gary Johnson (Libertarian Party)\n",
    "* G16PRECCAS - Darrell L. Castle (Constitution Party)\n",
    "\n",
    "\n",
    "* G16USSRTHU - John R. Thune (Republican Party)\n",
    "* G16USSDWIL - Jay Williams (Democratic Party)\n",
    "\n",
    "\n",
    "* G16HALRNOE - Kristi Noem (Republican Party)\n",
    "* G16HALDHAW - Paula Hawks (Democratic Party)\n",
    "\n",
    "\n",
    "* G16PUCRNEL - Chris Nelson (Republican Party)\n",
    "* G16PUCDRED - Henry Red Cloud (Democratic Party)"
   ]
  },
  {
   "cell_type": "markdown",
   "id": "381e9798",
   "metadata": {},
   "source": [
    "## Load in VEST's Final File"
   ]
  },
  {
   "cell_type": "code",
   "execution_count": 5,
   "id": "319e57b2",
   "metadata": {},
   "outputs": [],
   "source": [
    "vest_shp = gp.read_file(\"./raw-from-source/VEST/sd_2016/sd_2016.shp\")"
   ]
  },
  {
   "cell_type": "code",
   "execution_count": 6,
   "id": "cae3833f",
   "metadata": {},
   "outputs": [
    {
     "data": {
      "text/plain": [
       "(747, 15)"
      ]
     },
     "execution_count": 6,
     "metadata": {},
     "output_type": "execute_result"
    }
   ],
   "source": [
    "vest_shp.shape"
   ]
  },
  {
   "cell_type": "code",
   "execution_count": 7,
   "id": "674c87c1",
   "metadata": {},
   "outputs": [
    {
     "data": {
      "text/html": [
       "<div>\n",
       "<style scoped>\n",
       "    .dataframe tbody tr th:only-of-type {\n",
       "        vertical-align: middle;\n",
       "    }\n",
       "\n",
       "    .dataframe tbody tr th {\n",
       "        vertical-align: top;\n",
       "    }\n",
       "\n",
       "    .dataframe thead th {\n",
       "        text-align: right;\n",
       "    }\n",
       "</style>\n",
       "<table border=\"1\" class=\"dataframe\">\n",
       "  <thead>\n",
       "    <tr style=\"text-align: right;\">\n",
       "      <th></th>\n",
       "      <th>STATEFP</th>\n",
       "      <th>COUNTYFP</th>\n",
       "      <th>VTDST</th>\n",
       "      <th>NAME</th>\n",
       "      <th>G16PRERTRU</th>\n",
       "      <th>G16PREDCLI</th>\n",
       "      <th>G16PRELJOH</th>\n",
       "      <th>G16PRECCAS</th>\n",
       "      <th>G16USSRTHU</th>\n",
       "      <th>G16USSDWIL</th>\n",
       "      <th>G16HALRNOE</th>\n",
       "      <th>G16HALDHAW</th>\n",
       "      <th>G16PUCRNEL</th>\n",
       "      <th>G16PUCDRED</th>\n",
       "      <th>geometry</th>\n",
       "    </tr>\n",
       "  </thead>\n",
       "  <tbody>\n",
       "    <tr>\n",
       "      <th>0</th>\n",
       "      <td>46</td>\n",
       "      <td>003</td>\n",
       "      <td>0VTD-1</td>\n",
       "      <td>Precinct 1</td>\n",
       "      <td>230</td>\n",
       "      <td>62</td>\n",
       "      <td>11</td>\n",
       "      <td>4</td>\n",
       "      <td>254</td>\n",
       "      <td>60</td>\n",
       "      <td>229</td>\n",
       "      <td>85</td>\n",
       "      <td>270</td>\n",
       "      <td>40</td>\n",
       "      <td>POLYGON Z ((-98.44574 43.75991 0.00000, -98.44...</td>\n",
       "    </tr>\n",
       "  </tbody>\n",
       "</table>\n",
       "</div>"
      ],
      "text/plain": [
       "  STATEFP COUNTYFP   VTDST        NAME  G16PRERTRU  G16PREDCLI  G16PRELJOH  \\\n",
       "0      46      003  0VTD-1  Precinct 1         230          62          11   \n",
       "\n",
       "   G16PRECCAS  G16USSRTHU  G16USSDWIL  G16HALRNOE  G16HALDHAW  G16PUCRNEL  \\\n",
       "0           4         254          60         229          85         270   \n",
       "\n",
       "   G16PUCDRED                                           geometry  \n",
       "0          40  POLYGON Z ((-98.44574 43.75991 0.00000, -98.44...  "
      ]
     },
     "execution_count": 7,
     "metadata": {},
     "output_type": "execute_result"
    }
   ],
   "source": [
    "vest_shp.head(1)"
   ]
  },
  {
   "cell_type": "code",
   "execution_count": 8,
   "id": "9b46eb2a",
   "metadata": {},
   "outputs": [
    {
     "data": {
      "text/plain": [
       "<AxesSubplot:>"
      ]
     },
     "execution_count": 8,
     "metadata": {},
     "output_type": "execute_result"
    },
    {
     "data": {
      "image/png": "[encoded data removed]",
      "text/plain": [
       "<Figure size 432x288 with 1 Axes>"
      ]
     },
     "metadata": {
      "needs_background": "light"
     },
     "output_type": "display_data"
    }
   ],
   "source": [
    "vest_shp.boundary.plot()"
   ]
  },
  {
   "cell_type": "code",
   "execution_count": 9,
   "id": "1c8961d2",
   "metadata": {},
   "outputs": [
    {
     "data": {
      "text/plain": [
       "Index(['STATEFP', 'COUNTYFP', 'VTDST', 'NAME', 'G16PRERTRU', 'G16PREDCLI',\n",
       "       'G16PRELJOH', 'G16PRECCAS', 'G16USSRTHU', 'G16USSDWIL', 'G16HALRNOE',\n",
       "       'G16HALDHAW', 'G16PUCRNEL', 'G16PUCDRED', 'geometry'],\n",
       "      dtype='object')"
      ]
     },
     "execution_count": 9,
     "metadata": {},
     "output_type": "execute_result"
    }
   ],
   "source": [
    "vest_shp.columns"
   ]
  },
  {
   "cell_type": "markdown",
   "id": "eefb8c62",
   "metadata": {},
   "source": [
    "## Loading, Combining Election Results\n",
    "The elections results used in this validation were pulled from Open Elections."
   ]
  },
  {
   "cell_type": "code",
   "execution_count": 23,
   "id": "6b8288cd",
   "metadata": {},
   "outputs": [
    {
     "data": {
      "text/html": [
       "<div>\n",
       "<style scoped>\n",
       "    .dataframe tbody tr th:only-of-type {\n",
       "        vertical-align: middle;\n",
       "    }\n",
       "\n",
       "    .dataframe tbody tr th {\n",
       "        vertical-align: top;\n",
       "    }\n",
       "\n",
       "    .dataframe thead th {\n",
       "        text-align: right;\n",
       "    }\n",
       "</style>\n",
       "<table border=\"1\" class=\"dataframe\">\n",
       "  <thead>\n",
       "    <tr style=\"text-align: right;\">\n",
       "      <th></th>\n",
       "      <th>County</th>\n",
       "      <th>Precinct</th>\n",
       "      <th>G16PRERTRU</th>\n",
       "      <th>G16PREDCLI</th>\n",
       "      <th>G16PRELJOH</th>\n",
       "      <th>G16PRECCAS</th>\n",
       "      <th>G16USSRTHU</th>\n",
       "      <th>G16USSDWIL</th>\n",
       "      <th>G16HALRNOE</th>\n",
       "      <th>G16HALDHAW</th>\n",
       "      <th>G16PUCRNEL</th>\n",
       "      <th>G16PUCDRED</th>\n",
       "    </tr>\n",
       "  </thead>\n",
       "  <tbody>\n",
       "    <tr>\n",
       "      <th>0</th>\n",
       "      <td>Aurora</td>\n",
       "      <td>1</td>\n",
       "      <td>62.0</td>\n",
       "      <td>230.0</td>\n",
       "      <td>11.0</td>\n",
       "      <td>4.0</td>\n",
       "      <td>254.0</td>\n",
       "      <td>60.0</td>\n",
       "      <td>229.0</td>\n",
       "      <td>85.0</td>\n",
       "      <td>270.0</td>\n",
       "      <td>40.0</td>\n",
       "    </tr>\n",
       "    <tr>\n",
       "      <th>1</th>\n",
       "      <td>Aurora</td>\n",
       "      <td>2</td>\n",
       "      <td>23.0</td>\n",
       "      <td>120.0</td>\n",
       "      <td>7.0</td>\n",
       "      <td>3.0</td>\n",
       "      <td>121.0</td>\n",
       "      <td>32.0</td>\n",
       "      <td>107.0</td>\n",
       "      <td>50.0</td>\n",
       "      <td>145.0</td>\n",
       "      <td>10.0</td>\n",
       "    </tr>\n",
       "    <tr>\n",
       "      <th>2</th>\n",
       "      <td>Aurora</td>\n",
       "      <td>3</td>\n",
       "      <td>101.0</td>\n",
       "      <td>290.0</td>\n",
       "      <td>19.0</td>\n",
       "      <td>6.0</td>\n",
       "      <td>314.0</td>\n",
       "      <td>107.0</td>\n",
       "      <td>262.0</td>\n",
       "      <td>159.0</td>\n",
       "      <td>362.0</td>\n",
       "      <td>61.0</td>\n",
       "    </tr>\n",
       "    <tr>\n",
       "      <th>3</th>\n",
       "      <td>Aurora</td>\n",
       "      <td>5</td>\n",
       "      <td>61.0</td>\n",
       "      <td>128.0</td>\n",
       "      <td>11.0</td>\n",
       "      <td>1.0</td>\n",
       "      <td>135.0</td>\n",
       "      <td>62.0</td>\n",
       "      <td>128.0</td>\n",
       "      <td>74.0</td>\n",
       "      <td>153.0</td>\n",
       "      <td>44.0</td>\n",
       "    </tr>\n",
       "    <tr>\n",
       "      <th>4</th>\n",
       "      <td>Aurora</td>\n",
       "      <td>7</td>\n",
       "      <td>93.0</td>\n",
       "      <td>206.0</td>\n",
       "      <td>26.0</td>\n",
       "      <td>5.0</td>\n",
       "      <td>249.0</td>\n",
       "      <td>82.0</td>\n",
       "      <td>203.0</td>\n",
       "      <td>124.0</td>\n",
       "      <td>271.0</td>\n",
       "      <td>53.0</td>\n",
       "    </tr>\n",
       "  </tbody>\n",
       "</table>\n",
       "</div>"
      ],
      "text/plain": [
       "   County Precinct  G16PRERTRU  G16PREDCLI  G16PRELJOH  G16PRECCAS  \\\n",
       "0  Aurora        1        62.0       230.0        11.0         4.0   \n",
       "1  Aurora        2        23.0       120.0         7.0         3.0   \n",
       "2  Aurora        3       101.0       290.0        19.0         6.0   \n",
       "3  Aurora        5        61.0       128.0        11.0         1.0   \n",
       "4  Aurora        7        93.0       206.0        26.0         5.0   \n",
       "\n",
       "   G16USSRTHU  G16USSDWIL  G16HALRNOE  G16HALDHAW  G16PUCRNEL  G16PUCDRED  \n",
       "0       254.0        60.0       229.0        85.0       270.0        40.0  \n",
       "1       121.0        32.0       107.0        50.0       145.0        10.0  \n",
       "2       314.0       107.0       262.0       159.0       362.0        61.0  \n",
       "3       135.0        62.0       128.0        74.0       153.0        44.0  \n",
       "4       249.0        82.0       203.0       124.0       271.0        53.0  "
      ]
     },
     "execution_count": 23,
     "metadata": {},
     "output_type": "execute_result"
    }
   ],
   "source": [
    "files = os.listdir(\"./raw-from-source/Election_Results/\")\n",
    "li = []\n",
    "for file in files:\n",
    "    if \"20161108\" in file: \n",
    "        file_string = \"./raw-from-source/Election_Results/\" + file\n",
    "        df = pd.read_csv(file_string)\n",
    "        df = df.drop(['office','district','party'], axis=1)\n",
    "        df = df.pivot_table(index = ['county','precinct'], columns = 'candidate', values = 'votes').reset_index()\n",
    "        df.index.name = df.columns.name = None\n",
    "        \n",
    "        columns = ['county','precinct','Donald J. Trump','Hillary Clinton','Gary Johnson','Darrell L. Castle','John R. Thune','Jay Williams','Kristi Noem','Paula Hawks','Chris Nelson','Henry Red Cloud']\n",
    "# #         df = df[['Donald J. Trump','Hillary Clinton', 'Gary Johnson','Darrell L. Castle','John R. Thune','Jay Williams','Kristi Noem','Paula Hawks','Chris Nelson','Henry Red Cloud']]\n",
    "        df = df.reindex(columns = columns)\n",
    "        # Remove the rows with total votes\n",
    "        df = df[df[\"precinct\"]!=\"Total\"]\n",
    "        df = df[df[\"precinct\"]!=\"TOTAL\"]\n",
    "        li.append(df)\n",
    "all_results = pd.concat(li)\n",
    "\n",
    "# Deal with the index\n",
    "all_results.reset_index(drop=True,inplace=True)\n",
    "\n",
    "# Rename the columns to match VEST\n",
    "all_results.columns = ['County','Precinct','G16PRERTRU','G16PREDCLI','G16PRELJOH','G16PRECCAS','G16USSRTHU','G16USSDWIL','G16HALRNOE','G16HALDHAW','G16PUCRNEL','G16PUCDRED']\n",
    "\n",
    "#Fill n/a values with 0\n",
    "all_results = all_results.fillna(0)\n",
    "\n",
    "all_results.head()"
   ]
  },
  {
   "cell_type": "code",
   "execution_count": 24,
   "id": "1a068516",
   "metadata": {},
   "outputs": [
    {
     "data": {
      "text/plain": [
       "(711, 12)"
      ]
     },
     "execution_count": 24,
     "metadata": {},
     "output_type": "execute_result"
    }
   ],
   "source": [
    "# Number of rows do not match VEST\n",
    "all_results.shape"
   ]
  },
  {
   "cell_type": "code",
   "execution_count": 20,
   "id": "2114ea37",
   "metadata": {},
   "outputs": [
    {
     "data": {
      "text/plain": [
       "Index(['County', 'Precinct', 'G16PRERTRU', 'G16PREDCLI', 'G16PRELJOH',\n",
       "       'G16PRECCAS', 'G16USSRTHU', 'G16USSDWIL', 'G16HALRNOE', 'G16HALDHAW',\n",
       "       'G16PUCRNEL', 'G16PUCDRED'],\n",
       "      dtype='object')"
      ]
     },
     "execution_count": 20,
     "metadata": {},
     "output_type": "execute_result"
    }
   ],
   "source": [
    "all_results.columns"
   ]
  },
  {
   "cell_type": "markdown",
   "id": "26cdacdd",
   "metadata": {},
   "source": [
    "## Validating Election Results"
   ]
  },
  {
   "cell_type": "markdown",
   "id": "3c78efea",
   "metadata": {},
   "source": [
    "### Check Statewide Candidate Totals"
   ]
  },
  {
   "cell_type": "code",
   "execution_count": 22,
   "id": "712902c2",
   "metadata": {},
   "outputs": [
    {
     "name": "stdout",
     "output_type": "stream",
     "text": [
      "Printing differences below\n",
      "G16PRERTRU has a difference of 49675.0 votes\n",
      "\tVEST: 227731 votes\n",
      "\tSOURCES: 178056.0 votes\n",
      "G16PREDCLI has a difference of 4219.0 votes\n",
      "\tVEST: 117466 votes\n",
      "\tSOURCES: 113247.0 votes\n",
      "G16PRELJOH has a difference of 226.0 votes\n",
      "\tVEST: 20850 votes\n",
      "\tSOURCES: 20624.0 votes\n",
      "G16PRECCAS has a difference of 1017.0 votes\n",
      "\tVEST: 4064 votes\n",
      "\tSOURCES: 3047.0 votes\n",
      "G16USSRTHU has a difference of 48561.0 votes\n",
      "\tVEST: 265527 votes\n",
      "\tSOURCES: 216966.0 votes\n",
      "G16USSDWIL has a difference of -1753.0 votes\n",
      "\tVEST: 104147 votes\n",
      "\tSOURCES: 105900.0 votes\n",
      "G16HALRNOE has a difference of -4126.0 votes\n",
      "\tVEST: 237172 votes\n",
      "\tSOURCES: 241298.0 votes\n",
      "G16HALDHAW has a difference of -2248.0 votes\n",
      "\tVEST: 132819 votes\n",
      "\tSOURCES: 135067.0 votes\n",
      "G16PUCRNEL has a difference of -4249.0 votes\n",
      "\tVEST: 268959 votes\n",
      "\tSOURCES: 273208.0 votes\n",
      "G16PUCDRED has a difference of -1392.0 votes\n",
      "\tVEST: 87864 votes\n",
      "\tSOURCES: 89256.0 votes\n",
      "\n",
      "All other races are equal\n"
     ]
    }
   ],
   "source": [
    "data_columns = ['G16PRERTRU', 'G16PREDCLI', 'G16PRELJOH',\n",
    "       'G16PRECCAS', 'G16USSRTHU', 'G16USSDWIL', 'G16HALRNOE', 'G16HALDHAW',\n",
    "       'G16PUCRNEL', 'G16PUCDRED']\n",
    "\n",
    "print(\"Printing differences below\")\n",
    "for race in data_columns:\n",
    "    if (sum(vest_shp[race])- all_results[race].sum() != 0):\n",
    "        print(race+\" has a difference of \"+str(sum(vest_shp[race])-all_results[race].sum())+\" votes\")\n",
    "        print(\"\\tVEST: \"+str(sum(vest_shp[race]))+\" votes\")\n",
    "        print(\"\\tSOURCES: \"+str(all_results[race].sum())+\" votes\")\n",
    "    else:\n",
    "        print(race + \" is equal\", \"\\tVEST: \" + str(sum(vest_shp[race])), \"\\tRDH: \" + str(all_results[race].sum()))\n",
    "print(\"\")\n",
    "print(\"All other races are equal\")"
   ]
  },
  {
   "cell_type": "markdown",
   "id": "9a1c9db9",
   "metadata": {},
   "source": [
    "#### County FIPs Data "
   ]
  },
  {
   "cell_type": "code",
   "execution_count": 33,
   "id": "17dbf74f",
   "metadata": {},
   "outputs": [
    {
     "name": "stdout",
     "output_type": "stream",
     "text": [
      "66\n"
     ]
    }
   ],
   "source": [
    "# Load in the nationwide FIPS file\n",
    "fips_file = pd.read_csv(\"./raw-from-source/FIPS/US_FIPS_Codes.csv\")\n",
    "fips_file = fips_file[fips_file[\"State\"]==\"South Dakota\"]\n",
    "fips_file[\"FIPS County\"]=fips_file[\"FIPS County\"].astype(str)\n",
    "\n",
    "# Make the FIPS three digits\n",
    "fips_file[\"FIPS County\"]=fips_file[\"FIPS County\"].str.zfill(3)\n",
    "\n",
    "# Create the dictionary\n",
    "fips_dict = dict(zip(fips_file[\"County Name\"],fips_file[\"FIPS County\"]))\n",
    "\n",
    "# Modify county names in dataframe to match the FIPs file\n",
    "# Oglala Lakota county was originally named Shannon county - the county was renamed in 2015\n",
    "county_name_changes_dict = {\"Oglala Lakota\":\"Shannon\"}\n",
    "all_results[\"County\"] = all_results[\"County\"].map(county_name_changes_dict).fillna(all_results[\"County\"])\n",
    "\n",
    "# Use the dictionary to go from a county name to a county FIPS\n",
    "all_results[\"County\"] = all_results[\"County\"].map(fips_dict).fillna(all_results[\"County\"])\n",
    "\n",
    "# # Check the number of counties - looking for 66\n",
    "print(len(all_results[\"County\"].unique()))\n"
   ]
  },
  {
   "cell_type": "markdown",
   "id": "78dbc77f",
   "metadata": {},
   "source": [
    "#### Check County Totals"
   ]
  },
  {
   "cell_type": "code",
   "execution_count": 34,
   "id": "6ebacd02",
   "metadata": {},
   "outputs": [
    {
     "name": "stdout",
     "output_type": "stream",
     "text": [
      "Counties with differences printed below:\n",
      "G16PRERTRU\n",
      "003      634.0\n",
      "005     2543.0\n",
      "007      254.0\n",
      "009     1401.0\n",
      "011     1869.0\n",
      "013     4161.0\n",
      "015      994.0\n",
      "017     -125.0\n",
      "019     2661.0\n",
      "021      599.0\n",
      "023     1447.0\n",
      "025      741.0\n",
      "027     2109.0\n",
      "029     4590.0\n",
      "031       53.0\n",
      "033     2172.0\n",
      "035     2802.0\n",
      "037      653.0\n",
      "039      796.0\n",
      "041     -165.0\n",
      "043     1124.0\n",
      "045     1433.0\n",
      "047     2511.0\n",
      "049      654.0\n",
      "051     1411.0\n",
      "053     1209.0\n",
      "055      859.0\n",
      "057     1496.0\n",
      "059     1057.0\n",
      "061     1073.0\n",
      "063      657.0\n",
      "065     2724.0\n",
      "067     2517.0\n",
      "069      418.0\n",
      "071      399.0\n",
      "073      648.0\n",
      "075      381.0\n",
      "077      977.0\n",
      "079     4038.0\n",
      "081      699.0\n",
      "083     7423.0\n",
      "085      608.0\n",
      "087     1171.0\n",
      "089      700.0\n",
      "091      302.0\n",
      "093     6218.0\n",
      "095      164.0\n",
      "097      706.0\n",
      "099    11435.0\n",
      "101      688.0\n",
      "102        NaN\n",
      "103    15730.0\n",
      "105     1145.0\n",
      "107     1071.0\n",
      "109      604.0\n",
      "111      578.0\n",
      "113        NaN\n",
      "115      935.0\n",
      "117      819.0\n",
      "119      542.0\n",
      "121    -1018.0\n",
      "123     1607.0\n",
      "125     1976.0\n",
      "127     3063.0\n",
      "129     1439.0\n",
      "135     2358.0\n",
      "137       15.0\n",
      "G16PREDCLI\n",
      "003     -634.0\n",
      "005    -2543.0\n",
      "007     -254.0\n",
      "009    -1401.0\n",
      "011    -1869.0\n",
      "013    -4161.0\n",
      "015     -994.0\n",
      "017      125.0\n",
      "019    -2661.0\n",
      "021     -599.0\n",
      "023    -1447.0\n",
      "025     -741.0\n",
      "027     2608.0\n",
      "029    -4590.0\n",
      "031      -53.0\n",
      "033    -2172.0\n",
      "035    -2802.0\n",
      "037     -653.0\n",
      "039     -796.0\n",
      "041      165.0\n",
      "043    -1124.0\n",
      "045      380.0\n",
      "047      821.0\n",
      "049     -654.0\n",
      "051    -1411.0\n",
      "053    -1209.0\n",
      "055     -859.0\n",
      "057    -1496.0\n",
      "059    -1057.0\n",
      "061    -1073.0\n",
      "063     -657.0\n",
      "065    -2724.0\n",
      "067      692.0\n",
      "069     -418.0\n",
      "071     -399.0\n",
      "073      264.0\n",
      "075     -381.0\n",
      "077     -977.0\n",
      "079     2314.0\n",
      "081   -11466.0\n",
      "083    -7423.0\n",
      "085     -608.0\n",
      "087    -1171.0\n",
      "089     -700.0\n",
      "091     -302.0\n",
      "093    -6218.0\n",
      "095     -164.0\n",
      "097      281.0\n",
      "099    30618.0\n",
      "101     -688.0\n",
      "102        NaN\n",
      "103   -15730.0\n",
      "105    -1145.0\n",
      "107      215.0\n",
      "109     -604.0\n",
      "111     -578.0\n",
      "113        NaN\n",
      "115     -935.0\n",
      "117     -819.0\n",
      "119     -542.0\n",
      "121     1018.0\n",
      "123    -1607.0\n",
      "125    -1976.0\n",
      "127    -3063.0\n",
      "129    -1439.0\n",
      "135    -2358.0\n",
      "137      -15.0\n",
      "G16PRELJOH\n",
      "027    295.0\n",
      "045     86.0\n",
      "047    166.0\n",
      "067    112.0\n",
      "073     36.0\n",
      "079    358.0\n",
      "081   -934.0\n",
      "097     67.0\n",
      "102      NaN\n",
      "107     40.0\n",
      "113      NaN\n",
      "G16PRECCAS\n",
      "027     57.0\n",
      "045     19.0\n",
      "047     65.0\n",
      "067     44.0\n",
      "073     19.0\n",
      "079     76.0\n",
      "081   -141.0\n",
      "097     10.0\n",
      "099    857.0\n",
      "102      NaN\n",
      "107     11.0\n",
      "113      NaN\n",
      "G16USSRTHU\n",
      "027      297.0\n",
      "047     2671.0\n",
      "069      567.0\n",
      "081    -8566.0\n",
      "099    52505.0\n",
      "102        NaN\n",
      "107     1087.0\n",
      "113        NaN\n",
      "G16USSDWIL\n",
      "027     269.0\n",
      "047     868.0\n",
      "069     124.0\n",
      "081   -3267.0\n",
      "102       NaN\n",
      "107     253.0\n",
      "113       NaN\n",
      "G16HALRNOE\n",
      "027     244.0\n",
      "047    2595.0\n",
      "081   -8041.0\n",
      "102       NaN\n",
      "107    1076.0\n",
      "113       NaN\n",
      "G16HALDHAW\n",
      "027     323.0\n",
      "047     935.0\n",
      "081   -3774.0\n",
      "102       NaN\n",
      "107     268.0\n",
      "113       NaN\n",
      "G16PUCRNEL\n",
      "017     174.0\n",
      "027     281.0\n",
      "047    2541.0\n",
      "081   -8511.0\n",
      "102       NaN\n",
      "107    1166.0\n",
      "113       NaN\n",
      "115     100.0\n",
      "G16PUCDRED\n",
      "017     313.0\n",
      "027     257.0\n",
      "047     888.0\n",
      "081   -2989.0\n",
      "102       NaN\n",
      "107     139.0\n",
      "113       NaN\n",
      "\n",
      "All other races in all counties are equal\n"
     ]
    }
   ],
   "source": [
    "print(\"Counties with differences printed below:\")\n",
    "diff_counties=[]\n",
    "for i in data_columns:\n",
    "    diff = vest_shp.groupby(['COUNTYFP']).sum()[i]-all_results.groupby([\"County\"]).sum()[i]\n",
    "    for val in diff[diff != 0].index.values.tolist():\n",
    "        if val not in diff_counties:\n",
    "            diff_counties.append(val)\n",
    "    if len(diff[diff != 0]!=0):\n",
    "        print(i)\n",
    "        print(diff[diff != 0].to_string(header=False))\n",
    "print(\"\")\n",
    "print(\"All other races in all counties are equal\")"
   ]
  },
  {
   "cell_type": "markdown",
   "id": "4abc2cea",
   "metadata": {},
   "source": [
    "### Check Precinct Totals"
   ]
  },
  {
   "cell_type": "markdown",
   "id": "0c611950",
   "metadata": {},
   "source": [
    "#### Create a 'join_col' in Both Files"
   ]
  },
  {
   "cell_type": "code",
   "execution_count": 20,
   "id": "2e002f05",
   "metadata": {
    "scrolled": false
   },
   "outputs": [
    {
     "name": "stdout",
     "output_type": "stream",
     "text": [
      "001-39-01003901                 1\n",
      "071-15-02001502                 1\n",
      "075-06-05000605                 1\n",
      "075-06-04000604                 1\n",
      "075-06-03000603                 1\n",
      "                               ..\n",
      "029-28-05002805                 1\n",
      "029-28-04002804                 1\n",
      "029-28-03002803                 1\n",
      "029-28-02002802                 1\n",
      "101-40-01/40-02004001/004002    1\n",
      "Name: join_col, Length: 432, dtype: int64\n",
      "001-Adams County              1\n",
      "067-Precinct 10-05            1\n",
      "071-Precinct 02               1\n",
      "071-Precinct 01               1\n",
      "069-Precinct 08 - 4TH WARD    1\n",
      "                             ..\n",
      "029-Precinct 5                1\n",
      "029-Precinct 4                1\n",
      "029-Precinct 3                1\n",
      "029-Precinct 2                1\n",
      "105-Precinct 76               1\n",
      "Name: join_col, Length: 432, dtype: int64\n"
     ]
    }
   ],
   "source": [
    "# Create a VEST join col\n",
    "vest_shp[\"join_col\"] = vest_shp[\"COUNTYFP\"]+\"-\"+vest_shp[\"NAME\"]+vest_shp[\"VTDST\"]\n",
    "# Check to make sure it is unique\n",
    "print(vest_shp[\"join_col\"].value_counts(dropna=False))\n",
    "\n",
    "# Create an election results join col\n",
    "nd_16[\"join_col\"] = nd_16[\"County\"]+\"-\"+nd_16[\"Precinct\"]\n",
    "# Check to make sure it is unique\n",
    "print(nd_16[\"join_col\"].value_counts(dropna=False))"
   ]
  },
  {
   "cell_type": "markdown",
   "id": "0418ab7f",
   "metadata": {},
   "source": [
    "#### Join Attempt #1"
   ]
  },
  {
   "cell_type": "code",
   "execution_count": 21,
   "id": "54a73f6e",
   "metadata": {},
   "outputs": [
    {
     "data": {
      "text/plain": [
       "left_only     432\n",
       "right_only    432\n",
       "both            0\n",
       "Name: _merge, dtype: int64"
      ]
     },
     "execution_count": 21,
     "metadata": {},
     "output_type": "execute_result"
    }
   ],
   "source": [
    "join_attempt_one = pd.merge(vest_shp,nd_16,how=\"outer\",on=\"join_col\",indicator=True)\n",
    "join_attempt_one[\"_merge\"].value_counts()"
   ]
  },
  {
   "cell_type": "code",
   "execution_count": 22,
   "id": "fbaeb5d5",
   "metadata": {},
   "outputs": [],
   "source": [
    "# Change Names to Perform Join\n",
    "election_vest_id_changes_dict = {'057-Precinct 0401': '057-04-01000401', '101-SW Minot Dist 3': '101-03-04 SW000304', '025-North Fox': '025-04-05000405', '085-Porcupine': '085-31-03003103', '085-Cannonball': '085-31-01003101', '101-NW Minot Dist 5': '101-05-01 NW000501', '053-04-02 Mandaree': '053-04-02000402', '025-Killdeer City 36': '025-36-04003604', '085-FY East': '085-31-06003106', '025-Antelope - Twin Buttes': '025-04-01000401', '055-WHITE SHIELD/ZIEGLER RURAL': '055-04-02000402', '085-FY West': '085-31-05003105', '031-Precinct 02': '031-29-02002902', '051-Precinct 3-Lehr/Rural Lehr': '051-28-03002803', '053-04-01 Four Bears': '053-04-01000401', '069-Precinct 05- 1ST WARD 2ND': '069-14-05001405', '085-Solen': '085-31-02003102', '013-Precinct 01': '013-02-01000201', '097-Precinct 6': '097-20-03002003', '043-Pettibone': '043-14-03001403', '003-Precinct 2410-00': '003-24-10002410', '065-Precinct 04-Fort Clark': '065-33-04003304', '047-Precinct 04 -Lehr Com Cent.': '047-28-04002804', '075-WHITE ASH': '075-06-04000604', '043-Robinson': '043-14-02001402', '013-Precinct 06': '013-02-06000206', \"035-St. Paul's Episcopal Church 11\": '035-18-06001806', '003-Precinct 2414-00': '003-24-14002414', '101-NW Minot Dist 3': '101-03-04 NW000304', '047-Precinct 05 - Fredonia Mini Ml': '047-28-05002805', '031-Precinct 03': '031-29-03002903', '097-Precinct 5': '097-20-01002001', '025-Dodge/Loring': '025-04-04000404', '065-Precinct 03-Hensler': '065-33-03003303', '031-Precinct 01': '031-29-01002901', '005-Precinct 4': '005-23-03002303', '025-Kyseth': '025-36-03003603', '003-Precinct 2407-00': '003-24-07002407', '043-Tuttle': '043-14-01001401', '005-Precinct 3': '005-23-02002302', '053-39-07 Bennie Pierre': '053-39-07003907', '069-Precinct 01': '069-14-01001401', '075-TOLLEY': '075-06-02000602', '069-Precinct 02': '069-14-02001402', '041-Regent #2': '041-31-02003102', '007-Precinct 03': '007-39-03003903', '091-Precinct 4': '091-23-04002304', '035-ICON Arena/Park District Office 23': '035-43-05004305', '065-Precinct 02-Center /West Side': '065-33-02003302', '091-Precinct 1': '091-23-01002301', '053-39-04 Sioux': '053-39-02003902', '091-Precinct 5': '091-23-05002305', '037-New Leipzig ': '037-31-02003102', '087-Marmarth Community Center': '087-39-01003901', '025-Oakdale': '025-39-01003901', '097-Precinct 4': '097-20-02002002', '095-Rocklake': '095-15-03001503', '021-Precinct 02': '021-26-01002601', '095-Egeland': '095-15-02001502', '091-Precinct 3': '091-23-03002303', '003-Precinct 2408-00': '003-24-08002408', '013-Precinct 05': '013-02-05000205', '015-Regan (Wilton County Shop)': '015-08-02000802', '037-Carson': '037-31-05003105', '043-Dawson': '043-14-05001405', '105-Precinct 53': '105-02-04000204', '041-Indian Creek #4': '041-36-02003602', '051-Precinct 5-Rural Wishek': '051-28-05002805', '023-Precinct 4': '023-02-04000204', '087-Pierce Church': '087-39-03003903', '065-Precinct 05-Far West Oliver': '065-33-05003305', '077-BARRIE-HELENDALE': '077-26-01002601', '023-Precinct 3': '023-02-03000203', '077-CHRISTINE': '077-25-07002507', '091-Precinct 2': '091-23-02002302', '013-Precinct 04': '013-02-04000204', '085-Selfridge': '085-31-04003104', '097-Precinct 1': '097-20-07002007', '081-Cogswell #3': '081-26-03002603', '061-Precinct 06': '061-02-03000203', '007-Precinct 01': '007-39-01003901', '093-Precinct P2': '093-29-02002902', '087-Amidon Courthouse': '087-39-02003902', '049-Precinct 27': '049-06-08000608', '081-Rutland-Cayuga #5': '081-26-05002605', '065-Precinct 07-Center/ East Side': '065-33-07003307', '059-Precinct 34': '059-33-03003303', '049-Precinct 55': '049-06-07000607', '049-Precinct 62': '049-06-06000606', '101-Makoti Pioneer Sr Citizen Club': '101-04-03000403', '097-Precinct 8': '097-20-09002009', '051-Precinct 6-Zeeland/Rural': '051-28-06002806', '039-Precinct 03': '039-23-04002304', '069-Precinct 04- 1ST WARD 1ST': '069-14-04001404', '079-Turtle Mtn Reservation #3': '079-09-03000903', '053-39-03 Yellowstone': '053-39-01003901', '025-Killdeer Unorganized': '025-39-02003902', '017-2401 Tower City Community Ctr': '017-24-01024-01', '003-Precinct 2415-00': '003-24-15002415', '097-Precinct 3': '097-20-05002005', '005-Precinct 2': '005-23-01002301', '017-2201 Page Senior Ctr': '017-22-01022-01', '067-Precinct 10-05': '067-10-05001005', '077-MOORETON': '077-25-04002504', '039-Precinct 05': '039-23-02002302', '003-Precinct 2409-00': '003-24-09002409', '105-Precinct 45': '105-02-02000202', '003-Precinct 2413-00': '003-24-13002413', '053-39-08 Rhoades': '053-39-08003908', '049-Precinct 16': '049-06-02000602', '045-Precinct 3': '045-29-01002901', '105-Precinct 65': '105-02-09000209', '051-Precinct 2-Rural Ashley': '051-28-02002802', '061-Precinct 02': '061-04-07000407', '073-Precinct 1': '073-24-01002401', '065-Precinct 06-Hannover': '065-33-06003306', '057-Precinct 3316': '057-33-02003302', '077-BRIGHTWOOD-ELMA-BELFORD': '077-26-05002605', '075-SHERWOOD': '075-06-01000601', '003-Precinct 2412-00': '003-24-12002412', '049-Precinct 58': '049-06-01000601', '047-Precinct 03 - Gackle School': '047-28-03002803', '105-Precinct 67': '105-02-10000210', '039-Precinct 01': '039-23-01002301', '061-Precinct 09': '061-04-01000401', '065-Precinct 01-SouthEast Oliver': '065-33-01003301', '077-FAIRMOUNT': '077-25-02002502', '079-St John #2': '079-09-02000902', '025-Collins/Halliday': '025-04-02000402', '061-Precinct 04': '061-04-03000403', '017-2203 Buffalo Community Center': '017-22-03022-03', '039-Precinct 02': '039-23-03002303', '103-Precinct 02 Fessenden': '103-14-02001402', '011-Rhame': '011-39-03003903', '039-Precinct 04': '039-23-05002305', '101-Ryder City Building': '101-04-04000404', '097-Precinct 12': '097-20-12002012', '025-New Hradec': '025-36-02003602', '015-Wing Fire Hall': '015-08-03000803', '023-Precinct 2': '023-02-02000202', '077-WALCOTT': '077-25-06002506', '057-Precinct 3314': '057-33-05003305', '093-Precinct P1': '093-29-01002901', '101-North Central Lynch Immanuel': '101-38-01003801', '067-Precinct 10-06': '067-10-06001006', '089-Taylor': '089-36-06003606', '015-Sterling School': '015-28-01002801', '069-Precinct 07-3RD WARD': '069-14-07001407', '003-Precinct 2406-00': '003-24-06002406', '079-Dunseith #4': '079-09-04000904', '103-Precinct 06 Fessenden': '103-14-06001406', '057-Precinct 3320': '057-33-06003306', '017-2402 Alice Nu Tech Office': '017-24-02024-02', '077-ABERCROMBIE': '077-25-05002505', '053-39-12 Blue Buttes': '053-39-09003909', '101-South Prairie School': '101-04-05000405', '105-Precinct 75': '105-01-03000103', '097-Precinct 10': '097-20-10002010', '059-Precinct 23': '059-31-02003102', '097-Precinct 9': '097-20-11002011', '059-Precinct 20': '059-31-01003101', '103-Precinct 04 Sykeston': '103-14-04001404', '101-Des Lacs Community Hall': '101-38-03003803', '013-Precinct 02': '013-02-02000202', '097-Precinct 2': '097-20-06002006', '003-Precinct 2403-00': '003-24-03002403', '053-39-06 Arnegard': '053-39-04003904', '015-Wilton County Shop': '015-08-01000801', '103-Precinct 03 Bowdon': '103-14-03001403', '057-Precinct 3301': '057-33-01003301', '077-COLFAX': '077-26-02002602', '089-Gladstone': '089-36-05003605', '075-GLENBURN': '075-06-05000605', '037-Elgin': '037-31-03003103', '105-Precinct 55': '105-02-05000205', '003-Precinct 2401-00': '003-24-01002401', '049-Precinct 41': '049-06-04000604', '069-Precinct 03': '069-14-03001403', '047-Precinct 01- American Legion ': '047-28-01002801', '061-Precinct 03': '061-04-02000402', '057-Precinct 3324': '057-33-24003324', '081-Milnor #1': '081-26-01002601', '035-Wesley United Church': '035-18-03001803', '103-Precinct 01 Harvey': '103-14-01001401', '035-Gilby Presbyterian Church': '035-19-02001902', '061-Precinct 05': '061-04-04/04-06000404/000406', '017-2001 Northern Cass PSD': '017-20-01020-01', '045-Precinct 1': '045-29-02002902', '011-Scranton': '011-39-04003904', '025-Manning': '025-36-01003601', '043-Tappen': '043-14-06001406', '007-Precinct 02': '007-39-02003902', '025-Dunn Center/Decorah': '025-04-03000403', '093-Precinct P3': '093-29-03002903', '057-Precinct 3381': '057-33-81003381', '081-Forman-Havana #4': '081-26-04002604', '029-Precinct 4': '029-28-04002804', '073-Precinct 2': '073-24-02002402', '101-NE Minot Dist 40': '101-40-03 NE004003', '057-Precinct 3383': '057-33-83003383', '017-2501 Hickson Community Center': '017-25-01025-01', '081-Gwinner #2': '081-26-02002602', '017-2202 Arthur Community Hall': '017-22-02022-02', '105-Precinct 62': '105-02-06000206', '057-Precinct 3303': '057-33-03003303', '061-Precinct 08': '061-04-05000405', '071-Precinct 04': '071-15-01001501', '069-Precinct 06 -2ND WARD': '069-14-06001406', '017-4504 Argusville Fire Hall': '017-45-04045-04', '057-Precinct 3313': '057-33-04003304', '017-2207 Davenport Community Ctr': '017-22-07022-07', '015-Menoken School': '015-28-02002802', '013-Precinct 03': '013-02-03000203', '051-Precinct 4-City of Wishek': '051-28-04002804', '041-New England #3': '041-36-01003601', '073-Precinct 4': '073-26-02002602', '079-Rolette #5': '079-09-05000905', '069-Precinct 08 - 4TH WARD': '069-14-08001408', '051-Precinct 1-City of Ashley': '051-28-01002801', '097-Precinct 7': '097-20-08002008', '031-Precinct 04': '031-29-04002904', '015-Bismarck Civic Center': '015-32-03003203', '077-LIDGERWOOD': '077-26-04002604', '029-Precinct 5': '029-28-05002805', '029-Precinct 2': '029-28-02002802', '105-Precinct 63': '105-02-07000207', '061-Precinct 07': '061-02-02000202', '057-Precinct 3322': '057-33-22003322', '053-39-05 Alexander': '053-39-03003903', '077-HANKINSON': '077-25-01002501', '029-Precinct 3': '029-28-03002803', '035-Grand Forks City Hall 09': '035-18-04001804', '047-Precinct 02-American Legion': '047-28-02002802', '003-Precinct 2404-00': '003-24-04002404', '035-Bible Baptist Church': '035-18-01001801', '035-Manvel Public School': '035-19-01001901', '027-Precinct 02': '027-23-02002302', '031-Precinct 06': '031-29-06002906', '101-Afton Our Savior Lutheran': '101-38-04003804', '011-Bowman Four Seasons': '011-39-02003902', '057-Precinct 3323': '057-33-23003323', '079- Rolla #1': '079-09-01000901', '017-2502 Kindred City Hall': '017-25-02025-02', '059-Precinct 05': '059-31-06003106', '031-Precinct 05': '031-29-05002905', '003-Precinct 2402-00': '003-24-02002402', '035-Alerus 25': '035-43-04004304', '029-Precinct 1': '029-28-01002801', '003-Precinct 2411-00': '003-24-11002411', '035-Grand Forks City Hall 08': '035-18-02001802', '077-WYNDMERE': '077-26-03002603', '059-Precinct 38': '059-36-01003601', '059-Precinct 07': '059-34-06003406', '025-Killdeer City 39': '025-39-03003903', '101-Sawyer City Hall': '101-04-06000406', '057-Precinct 3382': '057-33-82003382', '035-Emerado Community Hall': '035-20-01002001', '067-Precinct 10-01': '067-10-01001001', '057-Precinct 3321': '057-33-21003321', '009-Precinct 01': '009-06-05000605', '023-Precinct 1': '023-02-01000201', '101-Berthold Sr Citizen Center': '101-04-02000402', '093-Precinct P5': '093-29-05002905', '027-Precinct 01': '027-23-01002301', '097-Precinct 11': '097-20-04002004', '015-Roosevelt School': '015-32-02003202', '049-Precinct 18': '049-06-03000603', '075-MOHALL': '075-06-03000603', '073-Precinct 3': '073-26-01002601', '015-South Central High School': '015-32-01003201', '035-Alerus 01': '035-17-01001701', '003-Precinct 2405-00': '003-24-05002405', '089-Richardton': '089-36-07003607', '059-Precinct 36': '059-36-02003602', '067-Precinct 10-02': '067-10-02001002', '105-Precinct 76': '105-02-11000211', '059-Precinct 18': '059-31-04003104', '059-Precinct 08': '059-34-07003407', '015-Myhre (Civic Center)': '015-32-04003204', '035-Northwood Community Center': '035-19-04001904', '017-2701 West Acres-Main Entrance': '017-27-01027-01', '035-Gorecki Alumni Center': '035-42-02004202', '101-Ruthville Lynch Immanuel': '101-40-01/40-02004001/004002', '009-Precinct 03': '009-06-03000603', '093-Precinct P6': '093-29-06002906', '071-Precinct 02': '071-15-04001504', '067-Precinct 10-04': '067-10-04001004', '067-Precinct 10-03': '067-10-03001003', '055-LEGISLATIVE 4-McLEAN LESS 0402': '055-04-01000401', '017-2205 Mapleton Community Ctr': '017-22-05022-05', '045-Precinct 4': '045-28-01002801', '095-Cando': '095-15-01001501', '041-Mott #1': '041-31-01003101', '009-Precinct 05': '009-06-01000601', '009-Precinct 04': '009-06-02000602', '077-WAHPETON COMM CENTER': '077-25-03/25-10002503/002510', '089-Belfield': '089-36-01003601', '043-Steele': '043-14-04001404', '009-Precinct 02': '009-06-04000604', '093-Precinct P4': '093-29-04002904', '077-WAHPETON CITY HALL': '077-25-08002508', '101-SW Minot Dist 38': '101-38-06 SW003806', '015-Riverwood (Civic Center)': '015-32-07003207', '045-Precinct 2': '045-29-03002903', '077-WAHPETON FAITH CHURCH': '077-25-09002509', '035-Public Works': '035-42-01004201', '059-Precinct 24': '059-31-03003103', '101-SE Minot Dist 38': '101-38-06 SE003806', '101-Sundre All Seasons Arena': '101-03-01000301', '059-Precinct 04': '059-34-04003404', '089-South Heart': '089-36-02003602', '093-Precinct J6': '093-12-05001205', '015-County 4-H Building 7': '015-07-04000704', '101-Kenmare Memorial Hall': '101-04-01000401', '101-Harrison Courthouse': '101-38-05003805', '035-Alerus 24': '035-43-03004303', '035-UND Wellness Center 22': '035-42-04004204', '005-Precinct 1': '005-14-01001401', '049-Precinct 47': '049-06-05000605', '011-Bowman City': '011-39-01003901', '101-NE Minot Dist 3': '101-03-04 NE000304', '059-Precinct 03': '059-34-03003403', '015-Liberty School 8': '015-08-06000806', '037-Rural Grant County': '037-31-01/31-04003101/003104', '083-Precinct 01': '083-07-01000701', '015-Highland Acres School': '015-35-01003501', '059-Precinct 06': '059-34-05003405', \"035-St. Paul's Episcopal Church 10\": '035-18-05001805', '015-Evangel Assembly of God 7': '015-07-05000705', '017-4502 Reiles Acres Community Cn': '017-45-02045-02', '093-Precinct J4': '093-29-07002907', '015-Simle Middle School': '015-35-06003506', '059-Precinct 33': '059-33-01003301', '015-County 4-H Building 28': '015-28-03002803', '015-Pioneer School': '015-35-04003504', '035-UND Wellness Center 21': '035-42-03004203', '101-Surrey City Hall': '101-03-03000303', '103-Precinct 05 Harvey': '103-14-05001405', '077-WAHPETON RICHLAND LEC': '077-25-11002511', '017-4503 Harwood Community Center': '017-45-03045-03', '017-1604 Journey In Faith Church': '017-16-04016-04', '021-Precinct 01': '021-28-01002801', '093-Precinct J5': '093-12-04001204', '101-SE Minot Dist 5': '101-05-01 SE000501', '093-Precinct J1': '093-12-01001201', '035-Alerus 27': '035-43-02004302', '015-Grimsrud School': '015-47-03004703', '015-ND State Capitol Building': '015-35-02003502', '061-Precinct 01': '061-02-01000201', '101-Burlington City Hall': '101-38-02003802', '093-Precinct J3': '093-12-03001203', '071-Precinct 03': '071-15-02001502', '033-Precinct #1': '033-39-01003901', '035-Hope Evangelical Church': '035-18-07001807', '101-Nedrose All Seasons Arena': '101-03-02000302', '035-Larimore Senior Citizens Center': '035-19-03001903', '021-Precinct 03': '021-26-02002602', '015-GracePoint Church 7': '015-07-02000702', '015-Liberty School 7': '015-07-06000706', '015-The Element': '015-07-07000707', '017-1302 West Fargo City Hall': '017-13-02013-02', '015-Northridge School': '015-35-03003503', '099-Precinct 2 -District 10': '099-10-01001001', '001-Adams County': '001-39-01003901', '035-Alerus 26': '035-43-01004301', '017-2204 Days Inn Casselton': '017-22-04022-04', '105-Precinct 64': '105-02-08000208', '015-Legacy High School': '015-07-08000708', '015-Wachter (Civic Center)': '015-32-05003205', '035-First Presbyterian Church': '035-17-04001704', '017-1602 Lutheran Church of the Cross': '017-16-02016-02', '017-4601 The Bowler': '017-46-01046-01', '015-Robert Miller School': '015-35-05003505', '015-Senior Center': '015-30-02003002', '017-1601 Meadowridge Bible Chapel': '017-16-01016-01', '063-Precinct 1 Nelson County': '063-23-01002301', '015-Evangel Assembly of God 8': '015-08-05000805', '035-Thompson Community Center': '035-20-02002002', '035-Holy Family': '035-17-03001703', '093-Precinct J2': '093-12-02001202', '105-Precinct 43': '105-02-01000201', '017-2101 Robert D Johnson Rec Ctr': '017-21-01021-01', '089-Range 95/96': '089-36-04003604', '017-4603 Riverview Place': '017-46-03046-03', '053-39-11 Watford City': '053-39-06003906', '053-39-09 Ideal/Schafer': '053-39-05003905', '015-United Tribes Tech College': '015-30-01003001', '059-Precinct 32': '059-33-02003302', '105-Precinct 48': '105-02-03000203', '017-2102 Fargo Public Library': '017-21-02021-02', '035-Alerus 05': '035-17-02001702', '015-Moses (Civic Center)': '015-32-06003206', '017-2208 Horace Senior Center': '017-22-08022-08', '015-County 4-H Building 8': '015-08-04000804', '059-Precinct 17': '059-31-05003105', '059-Precinct 01': '059-34-01003401', '105-Precinct 60': '105-01-01000101', '035-ICON Arena/Park District Office 04': '035-17-05001705', '015-Sunrise School': '015-07-03000703', '015-Lord of Life Church': '015-30-03003003', '019-Precinct 1': '019-10-01001001', '059-Precinct 02': '059-34-02003402', '017-1301 Westside Elem School': '017-13-01013-01', '017-1101 Olivet Lutheran Church': '017-11-01011-01', '015-Solheim School': '015-30-04003004', '015-Centennial (Century Baptist)': '015-47-04004704', '015-City of Lincoln': '015-07-01000701', '017-1603 Scheels Arena': '017-16-03016-03', '017-4402 Knollbrook Covenant Chrch': '017-44-02044-02', '017-1102 Baymont Inn': '017-11-02011-02', '089-BAC': '089-36-03003603', '101-NW Minot Dist 38': '101-38-06 NW003806', '105-Precinct 59': '105-01-02000102', '071-Precinct 01': '071-15-03001503', '017-4401 El Zagal Shrine': '017-44-01044-01', '017-2702 Living Waters Church': '017-27-02027-02', '017-4602 Atonement Lutheran Church': '017-46-02046-02', '017-4102 First Assembly of God': '017-41-02041-02', '105-Precinct 74': '105-01-04000104', '017-1303 Cambria Suites': '017-13-03013-03', '101-SE Minot Dist 3': '101-03-04 SE000304', '015-GracePoint Church 47': '015-47-02004702', '017-2206 Triumph West': '017-22-06022-06', '017-4501 FargoDome': '017-45-01045-01', '017-4101 Bethel Evangelical Church': '017-41-01041-01', '015-Horizon (Century Baptist)': '015-47-01004701', '099-Precinct 1 - District 19': '099-19-01001901', '101-NW Minot Dist 40': '101-40-03 NW004003', '017-2703 Calvary United Methodist': '017-27-03027-03', '055-LEGISLATIVE 8-McLEAN COUNTY': '055-08-01000801', '101-SW Minot Dist 5': '101-05-01 SW000501', '089-Armory': '089-37-01003701'}\n",
    "\n",
    "nd_16[\"join_col\"] = nd_16[\"join_col\"].map(election_vest_id_changes_dict).fillna(nd_16[\"join_col\"])"
   ]
  },
  {
   "cell_type": "markdown",
   "id": "173d910e",
   "metadata": {},
   "source": [
    "#### Join Attempt #2 "
   ]
  },
  {
   "cell_type": "code",
   "execution_count": 23,
   "id": "9cfa4f77",
   "metadata": {},
   "outputs": [
    {
     "name": "stdout",
     "output_type": "stream",
     "text": [
      "both          432\n",
      "left_only       0\n",
      "right_only      0\n",
      "Name: final_merge, dtype: int64\n"
     ]
    }
   ],
   "source": [
    "join_attempt_two = pd.merge(vest_shp,nd_16,how=\"outer\",on=\"join_col\",indicator=\"final_merge\")\n",
    "print(join_attempt_two[\"final_merge\"].value_counts())"
   ]
  },
  {
   "cell_type": "markdown",
   "id": "cc5ae6db",
   "metadata": {},
   "source": [
    "#### Check Results Precinct-by-Precinct "
   ]
  },
  {
   "cell_type": "code",
   "execution_count": 24,
   "id": "4151b54d",
   "metadata": {},
   "outputs": [],
   "source": [
    "def validater_row (df, column_List):\n",
    "    matching_rows = 0\n",
    "    different_rows = 0\n",
    "    diff_list=[]\n",
    "    diff_values = []\n",
    "    max_diff = 0\n",
    "    for j in range(0,len(df.index)):\n",
    "        same = True\n",
    "        for i in column_List:\n",
    "            left_Data = i + \"_x\"\n",
    "            right_Data = i + \"_y\"\n",
    "            diff = abs(df.iloc[j][left_Data]-df.iloc[j][right_Data])\n",
    "            if(diff >0):\n",
    "                if(diff>0):\n",
    "                    print(i, \"{:.>72}\".format(df.iloc[j][\"unique_ID\"]), \"(V)\",\"{:.>5}\".format(int(df.iloc[j][left_Data])),\" (S){:.>5}\".format(int(df.iloc[j][right_Data])),\"(D):{:>5}\".format(int(df.iloc[j][right_Data])-int(df.iloc[j][left_Data])))           \n",
    "                #print(df.iloc[j]['countypct'])\n",
    "                \n",
    "                diff_values.append(abs(diff))\n",
    "                same = False\n",
    "                if(np.isnan(diff)):\n",
    "                    print(\"NaN value at diff is: \", df.iloc[j][\"unique_ID\"])\n",
    "                    print(df.iloc[j][left_Data])\n",
    "                    print(df.iloc[j][right_Data])\n",
    "                if (diff>max_diff):\n",
    "                    max_diff = diff\n",
    "                    #print(\"New max diff is: \", str(max_diff))\n",
    "                    #print(df.iloc[j]['cty_pct'])\n",
    "        if(same != True):\n",
    "            different_rows +=1\n",
    "            diff_list.append(df.iloc[j][\"unique_ID\"])\n",
    "        else:\n",
    "            matching_rows +=1\n",
    "    print(\"\")\n",
    "    print(\"There are \", len(df.index),\" total rows\")\n",
    "    print(different_rows,\" of these rows have election result differences\")\n",
    "    print(matching_rows,\" of these rows are the same\")\n",
    "    print(\"\")\n",
    "    print(\"The max difference between any one shared column in a row is: \", max_diff)\n",
    "    if(len(diff_values)!=0):\n",
    "        print(\"The average difference is: \", str(sum(diff_values)/len(diff_values)))\n",
    "    count_big_diff = len([i for i in diff_values if i > 10])\n",
    "    print(\"There are \", str(count_big_diff), \"precinct results with a difference greater than 10\")\n",
    "    diff_list.sort()\n",
    "    print(diff_list)"
   ]
  },
  {
   "cell_type": "code",
   "execution_count": 25,
   "id": "a81b4340",
   "metadata": {},
   "outputs": [
    {
     "name": "stdout",
     "output_type": "stream",
     "text": [
      "\n",
      "There are  432  total rows\n",
      "0  of these rows have election result differences\n",
      "432  of these rows are the same\n",
      "\n",
      "The max difference between any one shared column in a row is:  0\n",
      "There are  0 precinct results with a difference greater than 10\n",
      "[]\n"
     ]
    }
   ],
   "source": [
    "validater_row(join_attempt_two[join_attempt_two[\"final_merge\"]==\"both\"],data_columns)"
   ]
  },
  {
   "cell_type": "code",
   "execution_count": null,
   "id": "950afa23",
   "metadata": {},
   "outputs": [],
   "source": []
  }
 ],
 "metadata": {
  "kernelspec": {
   "display_name": "Python 3 (ipykernel)",
   "language": "python",
   "name": "python3"
  },
  "language_info": {
   "codemirror_mode": {
    "name": "ipython",
    "version": 3
   },
   "file_extension": ".py",
   "mimetype": "text/x-python",
   "name": "python",
   "nbconvert_exporter": "python",
   "pygments_lexer": "ipython3",
   "version": "3.9.6"
  }
 },
 "nbformat": 4,
 "nbformat_minor": 5
}
